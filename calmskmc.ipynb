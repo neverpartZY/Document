{
 "cells": [
  {
   "cell_type": "code",
   "execution_count": 2,
   "metadata": {},
   "outputs": [],
   "source": [
    "import numpy as np\n",
    "import matplotlib.pyplot as plt\n",
    "import numpy as np\n",
    "from scipy.signal import savgol_filter,find_peaks\n",
    "import pandas as pd"
   ]
  },
  {
   "cell_type": "code",
   "execution_count": 3,
   "metadata": {},
   "outputs": [
    {
     "name": "stdout",
     "output_type": "stream",
     "text": [
      "42.85\n",
      "66.27\n",
      "980.16\n"
     ]
    }
   ],
   "source": [
    "from scipy.constants import physical_constants\n",
    "h, unit, uncertainty = physical_constants[\"Planck constant\"]\n",
    "m_e, unit, uncertainty = physical_constants[\"electron mass\"]\n",
    "electron_charge = physical_constants['elementary charge'][0]\n",
    "speed_of_light = physical_constants['speed of light in vacuum'][0]\n",
    "avogadro = physical_constants['Avogadro constant'][0]\n",
    "n_1=1\n",
    "n_2=7\n",
    "def callambda(n_1,n_2):\n",
    "    lamb = h*speed_of_light/(-13.6*(1/n_2**2-1/n_1**2)*electron_charge)\n",
    "    return lamb\n",
    "callambda(1,7)\n",
    "n=7\n",
    "13.6*(1-1/n**2)*electron_charge\n",
    "e_2 = 9*h**2/(8*m_e*(1120e-12)**2)\n",
    "h*speed_of_light/(e_2)\n",
    "\n",
    "I = h/(8*np.pi**2*1040*speed_of_light)\n",
    "mu =35.5/36.5/avogadro*0.001\n",
    "r = (I/mu)**0.5\n",
    "r\n",
    "\n",
    "import numpy as np\n",
    "rho = 1000\n",
    "q1 = 0.2342\n",
    "t1 = 150.4\n",
    "m = 7.495\n",
    "t = 570.4\n",
    "q2 = m/(rho*np.pi*0.06**2)\n",
    "\n",
    "print(round((q2 - q1)*100,2))\n",
    "print(round(q2*100,2))\n",
    "print(round((t - t1)/(q2 - q1),2))"
   ]
  },
  {
   "cell_type": "code",
   "execution_count": 4,
   "metadata": {},
   "outputs": [
    {
     "data": {
      "text/plain": [
       "44100.0"
      ]
     },
     "execution_count": 4,
     "metadata": {},
     "output_type": "execute_result"
    }
   ],
   "source": [
    "from scipy.special import comb, perm\n",
    "y = 10\n",
    "x1 = 3\n",
    "x2 = 3\n",
    "y1 =comb(y,x1)*comb(y-x1,x2)*perm(3,3)\n",
    "y = 10\n",
    "x1 = 4\n",
    "x2 = 2\n",
    "y2 = comb(y,x1)*comb(y-x1,x2)*perm(3,3)\n",
    "y1 + y2"
   ]
  },
  {
   "cell_type": "code",
   "execution_count": 8,
   "metadata": {},
   "outputs": [
    {
     "name": "stdout",
     "output_type": "stream",
     "text": [
      "781 = 11×71\n"
     ]
    }
   ],
   "source": [
    "n=int(781)\n",
    "num=n    #使用num变量保留输入的原始数值\n",
    "m=[]\n",
    "while n!=1:    #n==1时，已分解到最后一个质因数\n",
    "    for i in range(2,int(n+1)):\n",
    "        if n % i == 0:\n",
    "            m.append(str(i))    #将i转化为字符串再追加到列表中，便于使用join函数进行输出\n",
    "            n = n/i\n",
    "    if n==1:\n",
    "        break    #n==1时，循环停止\n",
    "print(num,'=','×'.join(m))\n"
   ]
  }
 ],
 "metadata": {
  "kernelspec": {
   "display_name": "python",
   "language": "python",
   "name": "python3"
  },
  "language_info": {
   "codemirror_mode": {
    "name": "ipython",
    "version": 3
   },
   "file_extension": ".py",
   "mimetype": "text/x-python",
   "name": "python",
   "nbconvert_exporter": "python",
   "pygments_lexer": "ipython3",
   "version": "3.11.3"
  },
  "orig_nbformat": 4
 },
 "nbformat": 4,
 "nbformat_minor": 2
}
